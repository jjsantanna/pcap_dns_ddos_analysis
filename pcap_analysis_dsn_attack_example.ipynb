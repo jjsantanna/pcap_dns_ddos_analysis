{
 "cells": [
  {
   "cell_type": "markdown",
   "metadata": {
    "deletable": true,
    "editable": true
   },
   "source": [
    "# Analysis of a generic pcap file containing a DNS-based DDoS attack"
   ]
  },
  {
   "cell_type": "markdown",
   "metadata": {
    "deletable": true,
    "editable": true
   },
   "source": [
    "This is a Jupyter Notebook written for the analysis of generic pcap format files in which there is a DNS-based DDoS attack. If you don't know what is Jupyter Notebook then you must access the documentation (at http://jupyter.org/), learn how to use, install on your own machine, and have fun analysing attacks.\n",
    "\n",
    "**If you want to do 'this', or 'that', or even 'that other thing' on your analysis or your graphs, believe me: it is possible! GOOGLE IT!**"
   ]
  },
  {
   "cell_type": "markdown",
   "metadata": {
    "deletable": true,
    "editable": true
   },
   "source": [
    "# Libraries that I use to analyse data"
   ]
  },
  {
   "cell_type": "code",
   "execution_count": null,
   "metadata": {
    "collapsed": false,
    "deletable": true,
    "editable": true
   },
   "outputs": [],
   "source": [
    "import pandas as pd #more info at http://pandas.pydata.org/\n",
    "import numpy as np #more info at http://www.numpy.org/\n",
    "import matplotlib.pyplot as plt #some examples for you at http://matplotlib.org/gallery.html \n",
    "from matplotlib import gridspec #more info at http://matplotlib.org/api/gridspec_api.html\n",
    "import seaborn as sns\n",
    "\n",
    "plt.style.use('ggplot') #For improving the visualization style (options: grayscale, bmh, dark_background, ggplot, and fivethirtyeight)\n",
    "\n",
    "#Magic line: to show the plots inline in the Jupyter Notebook\n",
    "%matplotlib inline \n",
    "\n",
    "import warnings\n",
    "warnings.filterwarnings('ignore') #To avoid showing annoying warns"
   ]
  },
  {
   "cell_type": "markdown",
   "metadata": {
    "deletable": true,
    "editable": true
   },
   "source": [
    "# Reading the pcap and Writing into a text file (**VERY expensive TASK!!!)\n",
    "- If you don't have tshark:\n",
    "    > sudo apt-get install tshark\n",
    "- More fields on:https://www.wireshark.org/docs/dfref/\n",
    "### YOU WILL GET \"Error Traversing Database for ipnum...\": Don't be worried, it will work!\n",
    "Inline-style: \n",
    "\n",
    "![](figs/boring.gif)\n",
    "# Don't give up!\n",
    "\n"
   ]
  },
  {
   "cell_type": "code",
   "execution_count": null,
   "metadata": {
    "collapsed": false,
    "deletable": true,
    "editable": true
   },
   "outputs": [],
   "source": [
    "# This operation is extremely timing consuming. At least you only need to do it at ONCE!\n",
    "!tshark -n -r 'ipstresser_booter.pcap' -E separator=\\;  -E header=y -T fields \\\n",
    "-e frame.time_epoch \\\n",
    "-e ip.proto \\\n",
    "-e ip.src \\\n",
    "-e ip.dst \\\n",
    "-e udp.srcport \\\n",
    "-e udp.dstport \\\n",
    "-e tcp.srcport \\\n",
    "-e tcp.dstport \\\n",
    "-e frame.len \\\n",
    "-e dns.qry.type \\\n",
    "-e dns.qry.name \\\n",
    "-e dns.resp.name > pcap.txt"
   ]
  },
  {
   "cell_type": "markdown",
   "metadata": {},
   "source": [
    "# Reading the converted pcap file (pcap.txt) into a pandas dataframe"
   ]
  },
  {
   "cell_type": "code",
   "execution_count": null,
   "metadata": {
    "collapsed": true
   },
   "outputs": [],
   "source": [
    "df = pd.read_csv('pcap.txt', error_bad_lines=False, sep=';')"
   ]
  },
  {
   "cell_type": "markdown",
   "metadata": {},
   "source": [
    "# Functions to make your life easier "
   ]
  },
  {
   "cell_type": "code",
   "execution_count": null,
   "metadata": {
    "collapsed": true
   },
   "outputs": [],
   "source": [
    "def timestamp2datetime(series):\n",
    "    return  pd.to_datetime(series,unit='s',errors='coerce')"
   ]
  },
  {
   "cell_type": "code",
   "execution_count": null,
   "metadata": {
    "collapsed": false,
    "deletable": true,
    "editable": true
   },
   "outputs": [],
   "source": [
    "def bytes2bits(series):\n",
    "    try:\n",
    "        return  series*8\n",
    "    except AttributeError:\n",
    "        return series     "
   ]
  },
  {
   "cell_type": "markdown",
   "metadata": {},
   "source": [
    "# Using the above functions to convert some columns of the dataframe "
   ]
  },
  {
   "cell_type": "code",
   "execution_count": null,
   "metadata": {
    "collapsed": false
   },
   "outputs": [],
   "source": [
    "df['frame.time_epoch']=timestamp2datetime(df['frame.time_epoch'])"
   ]
  },
  {
   "cell_type": "code",
   "execution_count": null,
   "metadata": {
    "collapsed": false
   },
   "outputs": [],
   "source": [
    "df['frame.len']=bytes2bits(df['frame.len'])"
   ]
  },
  {
   "cell_type": "markdown",
   "metadata": {},
   "source": [
    "# Showing how the data looks like after the adaptations "
   ]
  },
  {
   "cell_type": "code",
   "execution_count": null,
   "metadata": {
    "collapsed": false
   },
   "outputs": [],
   "source": [
    "df.head()"
   ]
  },
  {
   "cell_type": "markdown",
   "metadata": {
    "deletable": true,
    "editable": true
   },
   "source": [
    "<h1 align=\"center\">====================================================================<br> INVESTIGATING THE CHARACTERISTICS OF THE TRACE </h1>"
   ]
  },
  {
   "cell_type": "markdown",
   "metadata": {
    "deletable": true,
    "editable": true
   },
   "source": [
    "## 1.1. Who was the target IP? Which IP was the target of the majority of packets?"
   ]
  },
  {
   "cell_type": "code",
   "execution_count": null,
   "metadata": {
    "collapsed": false,
    "deletable": true,
    "editable": true
   },
   "outputs": [],
   "source": [
    "ip_dst=df['ip.dst'].value_counts()\n",
    "# Showing only the top ones\n",
    "ip_dst.head()"
   ]
  },
  {
   "cell_type": "markdown",
   "metadata": {},
   "source": [
    "## 1.2. Visualizing the distribution of destination IPs and the percentage of packets "
   ]
  },
  {
   "cell_type": "code",
   "execution_count": null,
   "metadata": {
    "collapsed": false,
    "deletable": true,
    "editable": true
   },
   "outputs": [],
   "source": [
    "fig = plt.figure(figsize=(4,4))\n",
    "\n",
    "ax = plt.subplot2grid((1,1), (0,0))\n",
    "ip_dst.plot(ax=ax,kind='pie', autopct='%1.1f%%', startangle=270, fontsize=10,title=\"Target IP\")\n",
    "ax.set_ylabel(\"\")\n",
    "\n",
    "fig.show()"
   ]
  },
  {
   "cell_type": "markdown",
   "metadata": {},
   "source": [
    "## 1.3. Well, the IP that most received packets was ... "
   ]
  },
  {
   "cell_type": "code",
   "execution_count": null,
   "metadata": {
    "collapsed": false
   },
   "outputs": [],
   "source": [
    "top1_target_ip=ip_dst.index[0]\n",
    "top1_target_ip"
   ]
  },
  {
   "cell_type": "markdown",
   "metadata": {},
   "source": [
    "## 2.1. Which \\16 network the target IP bellongs?"
   ]
  },
  {
   "cell_type": "code",
   "execution_count": null,
   "metadata": {
    "collapsed": false
   },
   "outputs": [],
   "source": [
    "target_network=top1_target_ip.split('.')[0]+'.'+top1_target_ip.split('.')[1]\n",
    "target_network"
   ]
  },
  {
   "cell_type": "markdown",
   "metadata": {
    "deletable": true,
    "editable": true
   },
   "source": [
    "## 3.1. Which IP protocols occurred more in the trace?"
   ]
  },
  {
   "cell_type": "code",
   "execution_count": null,
   "metadata": {
    "collapsed": false
   },
   "outputs": [],
   "source": [
    "ip_proto=df['ip.proto'].value_counts()\n",
    "ip_proto.head()"
   ]
  },
  {
   "cell_type": "markdown",
   "metadata": {},
   "source": [
    "## 3.2. Visualizing the distribution of IP protocols"
   ]
  },
  {
   "cell_type": "code",
   "execution_count": null,
   "metadata": {
    "collapsed": false,
    "deletable": true,
    "editable": true
   },
   "outputs": [],
   "source": [
    "fig = plt.figure(figsize=(4,4))\n",
    "\n",
    "ax = plt.subplot2grid((1,1), (0,0))\n",
    "ip_proto.plot(ax=ax,kind='pie', autopct='%1.1f%%', startangle=270, fontsize=10,title=\"IP Protocols (number)\")\n",
    "ax.set_ylabel(\"\")\n",
    "\n",
    "fig.show()"
   ]
  },
  {
   "cell_type": "markdown",
   "metadata": {},
   "source": [
    "## 3.3. Well, the IP protocol that occurred more was... "
   ]
  },
  {
   "cell_type": "code",
   "execution_count": null,
   "metadata": {
    "collapsed": false
   },
   "outputs": [],
   "source": [
    "top1_target_ip_proto=ip_proto.index[0]\n",
    "top1_target_ip_proto"
   ]
  },
  {
   "cell_type": "markdown",
   "metadata": {
    "deletable": true,
    "editable": true
   },
   "source": [
    "## 4.1. How is the Distribution of UDP ports for the top 1 (or 2) target IP address(es)?"
   ]
  },
  {
   "cell_type": "code",
   "execution_count": null,
   "metadata": {
    "collapsed": false,
    "deletable": true,
    "editable": true
   },
   "outputs": [],
   "source": [
    "udp_srcip_dstip_top1=df[df['ip.dst']==top1_target_ip]['ip.src'].value_counts()\n",
    "udp_srcport_top1=df[df['ip.dst']==top1_target_ip]['udp.srcport'].value_counts()\n",
    "udp_dstport_top1=df[df['ip.dst']==top1_target_ip]['udp.dstport'].value_counts()\n",
    "\n",
    "# udp_srcip_dstip_top2=df[df['ip.dst']==top2_target_ip]['ip.src'].value_counts()\n",
    "# udp_srcport_top2=df[df['ip.dst']==top2_target_ip]['udp.srcport'].value_counts()\n",
    "# udp_dstport_top2=df[df['ip.dst']==top2_target_ip]['udp.dstport'].value_counts()"
   ]
  },
  {
   "cell_type": "markdown",
   "metadata": {},
   "source": [
    "## 4.2. Visualizing the distribution of src IPs and the (src and dst) UDP ports"
   ]
  },
  {
   "cell_type": "code",
   "execution_count": null,
   "metadata": {
    "collapsed": false
   },
   "outputs": [],
   "source": [
    "fig = plt.figure(figsize=(12,6))\n",
    "fig.subplots_adjust(wspace=1)\n",
    "\n",
    "ax = plt.subplot2grid((2,3), (0,0))\n",
    "udp_srcip_dstip_top1.plot(kind='pie',ax=ax, autopct='%1.1f%%', startangle=270, fontsize=10,title=\"Source IPs targetting \"+top1_target_ip)\n",
    "ax.set_ylabel(\"\")\n",
    "\n",
    "ax1 = plt.subplot2grid((2,3), (0,1))\n",
    "udp_srcport_top1.plot(kind='pie',ax=ax1, autopct='%1.1f%%', startangle=270, fontsize=10,title=\"Source UDP Ports Distribution\")\n",
    "ax1.set_ylabel(\"\")\n",
    "\n",
    "ax2 = plt.subplot2grid((2,3), (0,2))\n",
    "udp_dstport_top1.plot(kind='pie',ax=ax2, autopct='%1.1f%%', startangle=270, fontsize=10,title=\"Destination UDP Ports Distribution\")\n",
    "ax2.set_ylabel(\"\")\n",
    "\n",
    "# ax3 = plt.subplot2grid((2,3), (1,0))\n",
    "# udp_srcip_dstip_top2.plot(kind='pie',ax=ax3, autopct='%1.1f%%', startangle=270, fontsize=10,title=\"Source IPs targetting \"+top2_target_ip)\n",
    "# ax3.set_ylabel(\"\")\n",
    "\n",
    "# ax4 = plt.subplot2grid((2,3), (1,1))\n",
    "# udp_srcport_top2.plot(kind='pie',ax=ax4, autopct='%1.1f%%', startangle=270, fontsize=10,title=\"Source UDP Ports Distribution\")\n",
    "# ax4.set_ylabel(\"\")\n",
    "\n",
    "# ax5 = plt.subplot2grid((2,3), (1,2))\n",
    "# udp_dstport_top2.plot(kind='pie',ax=ax5, autopct='%1.1f%%', startangle=270, fontsize=10,title=\"Destination UDP Ports Distribution\")\n",
    "# ax5.set_ylabel(\"\")\n",
    "\n",
    "fig.show()"
   ]
  },
  {
   "cell_type": "markdown",
   "metadata": {},
   "source": [
    "<h1 align='center'> !!!!!!!!!!!!!!!!!!!!!!!!<br>\n",
    "DO THE FOLLOWING ONLY IF THE TOP SRC PORT WAS 53 (DNS)</h1>"
   ]
  },
  {
   "cell_type": "markdown",
   "metadata": {
    "deletable": true,
    "editable": true
   },
   "source": [
    "## 5.1. What were the DNS queries used in the attack?"
   ]
  },
  {
   "cell_type": "code",
   "execution_count": null,
   "metadata": {
    "collapsed": false
   },
   "outputs": [],
   "source": [
    "occurrence_dnsquery=df['dns.qry.name'].value_counts()\n",
    "occurrence_dnsquery.head()"
   ]
  },
  {
   "cell_type": "markdown",
   "metadata": {},
   "source": [
    "## 5.2. Visualizing the distribution of DNS queries"
   ]
  },
  {
   "cell_type": "code",
   "execution_count": null,
   "metadata": {
    "collapsed": false,
    "deletable": true,
    "editable": true
   },
   "outputs": [],
   "source": [
    "fig = plt.figure(figsize=(4,4))\n",
    "ax = plt.subplot2grid((1,1), (0,0))\n",
    "occurrence_dnsquery.plot(kind='barh',ax=ax, fontsize=10, title=\"DNS query\")\n",
    "ax.set_ylabel(\"\")\n",
    "\n",
    "fig.show()"
   ]
  },
  {
   "cell_type": "markdown",
   "metadata": {},
   "source": [
    "## 5.3. Well, considering that only the top 1 DNS query was used in the attack... "
   ]
  },
  {
   "cell_type": "code",
   "execution_count": null,
   "metadata": {
    "collapsed": false
   },
   "outputs": [],
   "source": [
    "top_dnsquery=occurrence_dnsquery.index[0]\n",
    "top_dnsquery"
   ]
  },
  {
   "cell_type": "markdown",
   "metadata": {
    "deletable": true,
    "editable": true
   },
   "source": [
    "## 6.1. What was the greatest frame length that the DNS query used on the attack had? (i.e., which generated the greatest amplification factor)"
   ]
  },
  {
   "cell_type": "code",
   "execution_count": null,
   "metadata": {
    "collapsed": false,
    "deletable": true,
    "editable": true
   },
   "outputs": [],
   "source": [
    "max(df['frame.len'][df['dns.qry.name']==top_dnsquery])"
   ]
  },
  {
   "cell_type": "markdown",
   "metadata": {
    "deletable": true,
    "editable": true
   },
   "source": [
    "<h1 align='center'> !!!!! 7.1. VERY IMPORTANT !!!!!<br>\n",
    "Defining ONLY the main attack records<br>(attention to the others commented types of attacks)</h1>"
   ]
  },
  {
   "cell_type": "code",
   "execution_count": null,
   "metadata": {
    "collapsed": false,
    "deletable": true,
    "editable": true
   },
   "outputs": [],
   "source": [
    "# MANUAL SELECTION: Considering the attack from ONE to ONE port!!!\n",
    "attack_records=df[df['ip.dst']==top1_target_ip]\\\n",
    "                [df['ip.src'].str.contains(target_network)==False]\\\n",
    "                [df['ip.proto']==top1_target_ip_proto]\\\n",
    "                [df['udp.srcport']==udp_srcport_top1.index[0]]\\\n",
    "                [df['udp.dstport']==udp_dstport_top1.index[0]]\n",
    "\n",
    "# # MANUAL SELECTION: Considering the attack from ONE to MANY ports!!!\n",
    "# attack_records=df[df['ip.dst']==top1_target_ip]\\\n",
    "#                 [df['ip.src'].str.contains(target_network)==False]\\\n",
    "#                 [df['ip.proto']==top1_target_ip_proto]\\\n",
    "#                 [df['udp.srcport']==udp_srcport_top1.index[0]]\\\n",
    "#                 [df['dns.qry.name'].str.contains(top_dnsquery)==True]\n",
    "                \n",
    "# # MANUAL SELECTION: Considering the attack from MANY to ONE port!!!\n",
    "# attack_records=df[df['ip.dst']==top1_target_ip]\\\n",
    "#                 [df['ip.src'].str.contains(target_network)==False]\\\n",
    "#                 [df['ip.proto']==top1_target_ip_proto]\\\n",
    "#                 [df['udp.dstport']==udp_dstport_top1.index[0]]\\\n",
    "#                 [df['dns.qry.name'].str.contains(top_dnsquery)==True]\n",
    "\n",
    "# # MANUAL SELECTION: Considering the attack from MANY to MANY portS!!!\n",
    "# attack_records=df[df['ip.dst']==top1_target_ip]\\\n",
    "#                 [df['ip.src'].str.contains(target_network)==False]\\\n",
    "#                 [df['ip.proto']==top1_target_ip_proto]\\\n",
    "#                 [df['udp.srcport']==udp_srcport_top1.index[0]]\\\n",
    "#                 [df['udp.dstport']==udp_dstport_top1.index[0]]\\\n",
    "#                 [df['dns.qry.name'].str.contains(top_dnsquery)==True]\n",
    "\n",
    "remaining_records=df[~df.isin(attack_records)]\n"
   ]
  },
  {
   "cell_type": "markdown",
   "metadata": {
    "deletable": true,
    "editable": true
   },
   "source": [
    "## 8.1. Generating a time series of the attack and the remaining traffic"
   ]
  },
  {
   "cell_type": "code",
   "execution_count": null,
   "metadata": {
    "collapsed": false
   },
   "outputs": [],
   "source": [
    "overall_bps=df.set_index(['frame.time_epoch']).groupby(pd.Grouper(freq='S')).agg(['sum'])['frame.len']\n",
    "attack_bps=attack_records.set_index(['frame.time_epoch']).groupby(pd.Grouper(freq='S')).agg(['sum'])['frame.len']\n",
    "attack_bps_median=attack_bps.median()\n",
    "attack_bps_peak=max(attack_bps['sum'])\n",
    "\n",
    "remaining_bps=remaining_records.set_index(['frame.time_epoch']).groupby(pd.Grouper(freq='S')).agg(['sum'])['frame.len']"
   ]
  },
  {
   "cell_type": "markdown",
   "metadata": {},
   "source": [
    "## 8.2. Visualizing the time series "
   ]
  },
  {
   "cell_type": "code",
   "execution_count": null,
   "metadata": {
    "collapsed": false,
    "deletable": true,
    "editable": true
   },
   "outputs": [],
   "source": [
    "fig = plt.figure(figsize=(12,4))\n",
    "\n",
    "ax = plt.subplot2grid((1,1), (0,0))\n",
    "\n",
    "attack_bps.plot(ax=ax, lw=1)\n",
    "ax.fill_between(attack_bps.index, 0, attack_bps['sum'],color='r')\n",
    "\n",
    "ax.annotate(str(attack_bps_peak/10e5)+' Mb/s [peak]', (str(attack_bps[attack_bps['sum'] == attack_bps_peak].index.values[0]), attack_bps_peak),\n",
    "             xytext=(0, 0), textcoords='offset points')\n",
    "ax.annotate(str(attack_bps_median[0]/10e5)+' Mb/s [median]', (str(attack_bps.index.values[0]), attack_bps_median),\n",
    "             xytext=(90, 0), textcoords='offset points')\n",
    "\n",
    "remaining_bps.plot(ax=ax)\n",
    "\n",
    "ax.legend(['Attacks records','Remaining records'])\n",
    "ax.set_ylabel(\"Data [bit]\")\n",
    "ax.set_xlabel(\"Time [second]\")\n",
    "\n",
    "fig.show()"
   ]
  },
  {
   "cell_type": "markdown",
   "metadata": {
    "deletable": true,
    "editable": true
   },
   "source": [
    "## 9.1. How many records in the entire trace, attack records, and remaining records? "
   ]
  },
  {
   "cell_type": "code",
   "execution_count": null,
   "metadata": {
    "collapsed": false,
    "deletable": true,
    "editable": true
   },
   "outputs": [],
   "source": [
    "print('Records:', len(df),'records (100%),',len(attack_records),'attack records (',len(attack_records)*100/len(df),'%)',',', len(df)-len(attack_records),'remaining records (',(len(df)-len(attack_records))*100/len(df),'% )')"
   ]
  },
  {
   "cell_type": "markdown",
   "metadata": {
    "deletable": true,
    "editable": true
   },
   "source": [
    "## 10.1. What is the duration of the entire trace and the attack part? "
   ]
  },
  {
   "cell_type": "code",
   "execution_count": null,
   "metadata": {
    "collapsed": false,
    "deletable": true,
    "editable": true
   },
   "outputs": [],
   "source": [
    "print('Trace duration:',max(df['frame.time_epoch'])-min(df['frame.time_epoch']))\n",
    "print('Attack duration:',max(attack_records['frame.time_epoch'])-min(attack_records['frame.time_epoch']))"
   ]
  },
  {
   "cell_type": "markdown",
   "metadata": {
    "deletable": true,
    "editable": true
   },
   "source": [
    "## 11.1. How many (source) IPs were involved in the attack?"
   ]
  },
  {
   "cell_type": "code",
   "execution_count": null,
   "metadata": {
    "collapsed": false,
    "deletable": true,
    "editable": true
   },
   "outputs": [],
   "source": [
    "len(attack_records['ip.src'].unique())"
   ]
  },
  {
   "cell_type": "markdown",
   "metadata": {
    "deletable": true,
    "editable": true
   },
   "source": [
    "## 12.1. What are the top 5 IP addresses that sent more packets?"
   ]
  },
  {
   "cell_type": "code",
   "execution_count": null,
   "metadata": {
    "collapsed": false
   },
   "outputs": [],
   "source": [
    "top5_srcips_pkts=attack_records['ip.src'].value_counts().head(5).sort_values()\n",
    "top5_srcips_pkts"
   ]
  },
  {
   "cell_type": "markdown",
   "metadata": {},
   "source": [
    "## 12.2. Visualizing the top 5 IP addresses that sent more packets"
   ]
  },
  {
   "cell_type": "code",
   "execution_count": null,
   "metadata": {
    "collapsed": false,
    "deletable": true,
    "editable": true
   },
   "outputs": [],
   "source": [
    "fig = plt.figure()\n",
    "ax = plt.subplot2grid((1,1), (0,0))\n",
    "top5_srcips_pkts.plot(kind='barh')\n",
    "ax.set_ylabel(\"Source IP\")\n",
    "ax.set_xlabel(\"Packets\")\n",
    "\n",
    "fig.show()"
   ]
  },
  {
   "cell_type": "markdown",
   "metadata": {
    "deletable": true,
    "editable": true
   },
   "source": [
    "## 13.1. What are the top 5 IP addresses that sent more attack data?"
   ]
  },
  {
   "cell_type": "code",
   "execution_count": null,
   "metadata": {
    "collapsed": false
   },
   "outputs": [],
   "source": [
    "top5_srcips_bits=attack_records.groupby('ip.src').agg(['sum'])['frame.len'].sort_values('sum',ascending=False).head(5).sort_values('sum', ascending=False)\n",
    "top5_srcips_bits"
   ]
  },
  {
   "cell_type": "markdown",
   "metadata": {},
   "source": [
    "## 13.2. Visualizing the top 5 IP addresses that sent more attack data"
   ]
  },
  {
   "cell_type": "code",
   "execution_count": null,
   "metadata": {
    "collapsed": false,
    "deletable": true,
    "editable": true
   },
   "outputs": [],
   "source": [
    "fig = plt.figure()\n",
    "ax = plt.subplot2grid((1,1), (0,0))\n",
    "top5_srcips_bits.plot(kind='barh',ax=ax,legend=False)\n",
    "ax.set_ylabel(\"Source IP\")\n",
    "ax.set_xlabel(\"Bits\")\n",
    "\n",
    "fig.show()"
   ]
  },
  {
   "cell_type": "markdown",
   "metadata": {},
   "source": [
    "## 13.3. Well, the top 1 Source IP was ..."
   ]
  },
  {
   "cell_type": "code",
   "execution_count": null,
   "metadata": {
    "collapsed": false
   },
   "outputs": [],
   "source": [
    "top1_srcips_bits = top5_srcips_bits.index[0]\n",
    "top1_srcips_bits "
   ]
  },
  {
   "cell_type": "markdown",
   "metadata": {
    "deletable": true,
    "editable": true
   },
   "source": [
    "## 14.1. In which country the top 1 source IP address is located?"
   ]
  },
  {
   "cell_type": "code",
   "execution_count": null,
   "metadata": {
    "collapsed": false
   },
   "outputs": [],
   "source": [
    "import subprocess\n",
    "p = subprocess.Popen(['whois', '-h', 'whois.cymru.com','\\\"', '-v',top1_srcips_bits,'\\\"' ], stdout=subprocess.PIPE)\n",
    "\n",
    "print(p.communicate()[0])"
   ]
  }
 ],
 "metadata": {
  "kernelspec": {
   "display_name": "Python 3 (ipykernel)",
   "language": "python",
   "name": "python3"
  },
  "language_info": {
   "codemirror_mode": {
    "name": "ipython",
    "version": 3
   },
   "file_extension": ".py",
   "mimetype": "text/x-python",
   "name": "python",
   "nbconvert_exporter": "python",
   "pygments_lexer": "ipython3",
   "version": "3.10.2"
  }
 },
 "nbformat": 4,
 "nbformat_minor": 4
}
